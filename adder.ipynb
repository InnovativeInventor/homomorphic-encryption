{
 "cells": [
  {
   "cell_type": "code",
   "execution_count": 129,
   "metadata": {},
   "outputs": [],
   "source": [
    "a = int(\"10\", 2)\n",
    "b = int(\"01\", 2)"
   ]
  },
  {
   "cell_type": "code",
   "execution_count": 130,
   "metadata": {},
   "outputs": [],
   "source": [
    "def bit_convert(num: int) -> str:\n",
    "    return bin(num)[2:]\n",
    "\n",
    "def int_convert(num: str) -> int:\n",
    "    return int(num, 2)\n",
    "\n",
    "def add(a: int, b: int) -> int:\n",
    "    return a+b\n",
    "\n",
    "def gate_xor(a: int, b: int) -> int:\n",
    "    return a ^ b\n",
    "\n",
    "def gate_and(a: int, b: int) -> int:\n",
    "    return a & b\n",
    "\n",
    "def shifter(num: int) -> int:\n",
    "    return num << 1\n",
    "\n",
    "# def gate_and()"
   ]
  },
  {
   "cell_type": "code",
   "execution_count": 131,
   "metadata": {},
   "outputs": [
    {
     "name": "stdout",
     "output_type": "stream",
     "text": [
      "3\n",
      "3\n"
     ]
    }
   ],
   "source": [
    "print(add(a,b))\n",
    "print(gate_xor(a,b))"
   ]
  },
  {
   "cell_type": "code",
   "execution_count": 136,
   "metadata": {},
   "outputs": [],
   "source": [
    "def adder(a: int, b:int) -> int:\n",
    "    print(\"Expected\", bit_convert(add(a,b)))\n",
    "    \n",
    "    state = 0\n",
    "    \n",
    "    rounds = max(len(bit_convert(a)), len(bit_convert(b)))\n",
    "    for i in range(rounds):\n",
    "        orig_a = a\n",
    "        a = gate_xor(a,b)\n",
    "        print(\"first_step\", bit_convert(a))\n",
    "\n",
    "        carryover = gate_and(orig_a,b)\n",
    "        print(\"carryover\", bit_convert(carryover))\n",
    "\n",
    "        shift_step = shifter(carryover)\n",
    "        print(\"shift_step\", bit_convert(shift_step))\n",
    "        b = shift_step\n",
    "        \n",
    "    return a"
   ]
  },
  {
   "cell_type": "code",
   "execution_count": 147,
   "metadata": {},
   "outputs": [
    {
     "name": "stdout",
     "output_type": "stream",
     "text": [
      "Expected 1110000010010001001001101101\n",
      "first_step 1101111001001101000101001101\n",
      "carryover 100100010000010010000\n",
      "shift_step 1001000100000100100000\n",
      "first_step 1101110000001001000001101101\n",
      "carryover 1001000100000100000000\n",
      "shift_step 10010001000001000000000\n",
      "first_step 1101100010000001001001101101\n",
      "carryover 10000001000000000000000\n",
      "shift_step 100000010000000000000000\n",
      "first_step 1101000010010001001001101101\n",
      "carryover 100000000000000000000000\n",
      "shift_step 1000000000000000000000000\n",
      "first_step 1100000010010001001001101101\n",
      "carryover 1000000000000000000000000\n",
      "shift_step 10000000000000000000000000\n",
      "first_step 1110000010010001001001101101\n",
      "carryover 0\n",
      "shift_step 0\n",
      "first_step 1110000010010001001001101101\n",
      "carryover 0\n",
      "shift_step 0\n",
      "first_step 1110000010010001001001101101\n",
      "carryover 0\n",
      "shift_step 0\n",
      "first_step 1110000010010001001001101101\n",
      "carryover 0\n",
      "shift_step 0\n",
      "first_step 1110000010010001001001101101\n",
      "carryover 0\n",
      "shift_step 0\n",
      "first_step 1110000010010001001001101101\n",
      "carryover 0\n",
      "shift_step 0\n",
      "first_step 1110000010010001001001101101\n",
      "carryover 0\n",
      "shift_step 0\n",
      "first_step 1110000010010001001001101101\n",
      "carryover 0\n",
      "shift_step 0\n",
      "first_step 1110000010010001001001101101\n",
      "carryover 0\n",
      "shift_step 0\n",
      "first_step 1110000010010001001001101101\n",
      "carryover 0\n",
      "shift_step 0\n",
      "first_step 1110000010010001001001101101\n",
      "carryover 0\n",
      "shift_step 0\n",
      "first_step 1110000010010001001001101101\n",
      "carryover 0\n",
      "shift_step 0\n",
      "first_step 1110000010010001001001101101\n",
      "carryover 0\n",
      "shift_step 0\n",
      "first_step 1110000010010001001001101101\n",
      "carryover 0\n",
      "shift_step 0\n",
      "first_step 1110000010010001001001101101\n",
      "carryover 0\n",
      "shift_step 0\n",
      "first_step 1110000010010001001001101101\n",
      "carryover 0\n",
      "shift_step 0\n",
      "first_step 1110000010010001001001101101\n",
      "carryover 0\n",
      "shift_step 0\n",
      "first_step 1110000010010001001001101101\n",
      "carryover 0\n",
      "shift_step 0\n",
      "first_step 1110000010010001001001101101\n",
      "carryover 0\n",
      "shift_step 0\n",
      "first_step 1110000010010001001001101101\n",
      "carryover 0\n",
      "shift_step 0\n",
      "first_step 1110000010010001001001101101\n",
      "carryover 0\n",
      "shift_step 0\n",
      "first_step 1110000010010001001001101101\n",
      "carryover 0\n",
      "shift_step 0\n",
      "first_step 1110000010010001001001101101\n",
      "carryover 0\n",
      "shift_step 0\n"
     ]
    }
   ],
   "source": [
    "a = 1241241\n",
    "b = 234234324\n",
    "assert adder(a,b) == add(a,b)"
   ]
  },
  {
   "cell_type": "code",
   "execution_count": 151,
   "metadata": {},
   "outputs": [
    {
     "name": "stdout",
     "output_type": "stream",
     "text": [
      "[True, True, True, True, True]\n"
     ]
    }
   ],
   "source": [
    "import random\n",
    "bits1 = [random.choice([False, True]) for i in range(5)]\n",
    "print(bits1)"
   ]
  },
  {
   "cell_type": "code",
   "execution_count": null,
   "metadata": {},
   "outputs": [],
   "source": []
  }
 ],
 "metadata": {
  "kernelspec": {
   "display_name": "Python 3",
   "language": "python",
   "name": "python3"
  },
  "language_info": {
   "codemirror_mode": {
    "name": "ipython",
    "version": 3
   },
   "file_extension": ".py",
   "mimetype": "text/x-python",
   "name": "python",
   "nbconvert_exporter": "python",
   "pygments_lexer": "ipython3",
   "version": "3.7.4"
  }
 },
 "nbformat": 4,
 "nbformat_minor": 2
}
