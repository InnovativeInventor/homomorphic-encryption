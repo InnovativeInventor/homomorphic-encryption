{
 "cells": [
  {
   "cell_type": "code",
   "execution_count": 129,
   "metadata": {},
   "outputs": [],
   "source": [
    "a = int(\"10\", 2)\n",
    "b = int(\"01\", 2)"
   ]
  },
  {
   "cell_type": "code",
   "execution_count": 130,
   "metadata": {},
   "outputs": [],
   "source": [
    "def bit_convert(num: int) -> str:\n",
    "    return bin(num)[2:]\n",
    "\n",
    "def int_convert(num: str) -> int:\n",
    "    return int(num, 2)\n",
    "\n",
    "def add(a: int, b: int) -> int:\n",
    "    return a+b\n",
    "\n",
    "def gate_xor(a: int, b: int) -> int:\n",
    "    return a ^ b\n",
    "\n",
    "def gate_and(a: int, b: int) -> int:\n",
    "    return a & b\n",
    "\n",
    "def shifter(num: int) -> int:\n",
    "    return num << 1\n",
    "\n",
    "# def gate_and()"
   ]
  },
  {
   "cell_type": "code",
   "execution_count": 131,
   "metadata": {},
   "outputs": [
    {
     "name": "stdout",
     "output_type": "stream",
     "text": [
      "3\n",
      "3\n"
     ]
    }
   ],
   "source": [
    "print(add(a,b))\n",
    "print(gate_xor(a,b))"
   ]
  },
  {
   "cell_type": "code",
   "execution_count": 136,
   "metadata": {},
   "outputs": [],
   "source": [
    "def adder(a: int, b:int) -> int:\n",
    "    print(\"Expected\", bit_convert(add(a,b)))\n",
    "    \n",
    "    state = 0\n",
    "    \n",
    "    rounds = max(len(bit_convert(a)), len(bit_convert(b)))\n",
    "    for i in range(rounds):\n",
    "        orig_a = a\n",
    "        a = gate_xor(a,b)\n",
    "        print(\"first_step\", bit_convert(a))\n",
    "\n",
    "        carryover = gate_and(orig_a,b)\n",
    "        print(\"carryover\", bit_convert(carryover))\n",
    "\n",
    "        shift_step = shifter(carryover)\n",
    "        print(\"shift_step\", bit_convert(shift_step))\n",
    "        b = shift_step\n",
    "        \n",
    "    return a"
   ]
  },
  {
   "cell_type": "code",
   "execution_count": 139,
   "metadata": {},
   "outputs": [
    {
     "name": "stdout",
     "output_type": "stream",
     "text": [
      "Expected 111\n",
      "first_step 111\n",
      "carryover 0\n",
      "shift_step 0\n",
      "first_step 111\n",
      "carryover 0\n",
      "shift_step 0\n",
      "first_step 111\n",
      "carryover 0\n",
      "shift_step 0\n"
     ]
    },
    {
     "data": {
      "text/plain": [
       "7"
      ]
     },
     "execution_count": 139,
     "metadata": {},
     "output_type": "execute_result"
    }
   ],
   "source": [
    "adder(3,4)"
   ]
  },
  {
   "cell_type": "code",
   "execution_count": null,
   "metadata": {},
   "outputs": [],
   "source": []
  }
 ],
 "metadata": {
  "kernelspec": {
   "display_name": "Python 3",
   "language": "python",
   "name": "python3"
  },
  "language_info": {
   "codemirror_mode": {
    "name": "ipython",
    "version": 3
   },
   "file_extension": ".py",
   "mimetype": "text/x-python",
   "name": "python",
   "nbconvert_exporter": "python",
   "pygments_lexer": "ipython3",
   "version": "3.7.4"
  }
 },
 "nbformat": 4,
 "nbformat_minor": 2
}
